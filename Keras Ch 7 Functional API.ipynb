{
 "cells": [
  {
   "cell_type": "markdown",
   "metadata": {},
   "source": [
    "### Functional API Examples"
   ]
  },
  {
   "cell_type": "code",
   "execution_count": 2,
   "metadata": {},
   "outputs": [
    {
     "name": "stdout",
     "output_type": "stream",
     "text": [
      "_________________________________________________________________\n",
      "Layer (type)                 Output Shape              Param #   \n",
      "=================================================================\n",
      "input_1 (InputLayer)         (None, 64)                0         \n",
      "_________________________________________________________________\n",
      "dense_4 (Dense)              (None, 32)                2080      \n",
      "_________________________________________________________________\n",
      "dense_5 (Dense)              (None, 32)                1056      \n",
      "_________________________________________________________________\n",
      "dense_6 (Dense)              (None, 10)                330       \n",
      "=================================================================\n",
      "Total params: 3,466\n",
      "Trainable params: 3,466\n",
      "Non-trainable params: 0\n",
      "_________________________________________________________________\n"
     ]
    }
   ],
   "source": [
    "from keras.models import Sequential, Model\n",
    "from keras import layers\n",
    "from keras import Input\n",
    "\n",
    "\n",
    "# Sequential example\n",
    "seq_model = Sequential()\n",
    "seq_model.add(layers.Dense(32, activation='relu', input_shape=(64, )))\n",
    "seq_model.add(layers.Dense(32, activation='relu'))\n",
    "seq_model.add(layers.Dense(10, activation='softmax'))\n",
    "\n",
    "# Functional API equivalent\n",
    "input_tensor = Input(shape=(64,))\n",
    "x = layers.Dense(32, activation='relu')(input_tensor)\n",
    "x = layers.Dense(32, activation='relu')(x)\n",
    "output_tensor = layers.Dense(10, activation='softmax')(x)\n",
    "\n",
    "model = Model(input_tensor, output_tensor)\n",
    "\n",
    "model.summary()"
   ]
  },
  {
   "cell_type": "code",
   "execution_count": 9,
   "metadata": {},
   "outputs": [
    {
     "name": "stdout",
     "output_type": "stream",
     "text": [
      "Epoch 1/10\n",
      "1000/1000 [==============================] - 0s 124us/step - loss: 11.5512\n",
      "Epoch 2/10\n",
      "1000/1000 [==============================] - 0s 19us/step - loss: 11.5478\n",
      "Epoch 3/10\n",
      "1000/1000 [==============================] - 0s 19us/step - loss: 11.5462\n",
      "Epoch 4/10\n",
      "1000/1000 [==============================] - 0s 22us/step - loss: 11.5450\n",
      "Epoch 5/10\n",
      "1000/1000 [==============================] - 0s 20us/step - loss: 11.5442\n",
      "Epoch 6/10\n",
      "1000/1000 [==============================] - 0s 21us/step - loss: 11.5430\n",
      "Epoch 7/10\n",
      "1000/1000 [==============================] - 0s 20us/step - loss: 11.5422\n",
      "Epoch 8/10\n",
      "1000/1000 [==============================] - 0s 20us/step - loss: 11.5414\n",
      "Epoch 9/10\n",
      "1000/1000 [==============================] - 0s 19us/step - loss: 11.5405\n",
      "Epoch 10/10\n",
      "1000/1000 [==============================] - 0s 21us/step - loss: 11.5395\n",
      "1000/1000 [==============================] - 0s 62us/step\n"
     ]
    }
   ],
   "source": [
    "model.compile(optimizer='rmsprop', loss='categorical_crossentropy')\n",
    "\n",
    "import numpy as np\n",
    "x_train = np.random.random((1000, 64))\n",
    "y_train = np.random.random((1000, 10))\n",
    "\n",
    "model.fit(x_train, y_train, epochs=10, batch_size=128)\n",
    "\n",
    "score = model.evaluate(x_train, y_train)"
   ]
  },
  {
   "cell_type": "code",
   "execution_count": 10,
   "metadata": {},
   "outputs": [
    {
     "data": {
      "text/plain": [
       "11.537956123352052"
      ]
     },
     "execution_count": 10,
     "metadata": {},
     "output_type": "execute_result"
    }
   ],
   "source": [
    "score"
   ]
  },
  {
   "cell_type": "markdown",
   "metadata": {},
   "source": [
    "### Multiple input text example"
   ]
  },
  {
   "cell_type": "code",
   "execution_count": 1,
   "metadata": {},
   "outputs": [
    {
     "name": "stderr",
     "output_type": "stream",
     "text": [
      "Using TensorFlow backend.\n"
     ]
    }
   ],
   "source": [
    "from keras.models import Model\n",
    "from keras import layers\n",
    "from keras import Input\n",
    "\n",
    "text_vocabulary_size = 10000\n",
    "question_vocabulary_size = 10000\n",
    "answer_vocabulary_size = 500\n",
    "\n",
    "text_input = Input(shape=(None,), dtype='int32', name='text')\n",
    "\n",
    "embedded_text = layers.Embedding(\n",
    "    64, text_vocabulary_size)(text_input)\n",
    "\n",
    "encoded_text = layers.LSTM(32)(embedded_text)\n",
    "\n",
    "question_input = Input(shape=(None,),\n",
    "                       dtype='int32',\n",
    "                       name='question')\n",
    "\n",
    "embedded_question = layers.Embedding(\n",
    "    32, question_vocabulary_size)(question_input)\n",
    "encoded_question = layers.LSTM(32)(embedded_question)\n",
    "\n",
    "concatenated = layers.concatenate([encoded_text, encoded_question], axis=-1)\n",
    "\n",
    "answer = layers.Dense(answer_vocabulary_size,\n",
    "                      activation='softmax')(concatenated)\n",
    "\n",
    "model = Model([text_input, question_input], answer)\n",
    "\n",
    "model.compile(optimizer='rmsprop', loss='categorical_crossentropy',\n",
    "              metrics=['acc'])"
   ]
  },
  {
   "cell_type": "code",
   "execution_count": 4,
   "metadata": {},
   "outputs": [
    {
     "name": "stdout",
     "output_type": "stream",
     "text": [
      "__________________________________________________________________________________________________\n",
      "Layer (type)                    Output Shape         Param #     Connected to                     \n",
      "==================================================================================================\n",
      "text (InputLayer)               (None, None)         0                                            \n",
      "__________________________________________________________________________________________________\n",
      "question (InputLayer)           (None, None)         0                                            \n",
      "__________________________________________________________________________________________________\n",
      "embedding_1 (Embedding)         (None, None, 10000)  640000      text[0][0]                       \n",
      "__________________________________________________________________________________________________\n",
      "embedding_2 (Embedding)         (None, None, 10000)  320000      question[0][0]                   \n",
      "__________________________________________________________________________________________________\n",
      "lstm_1 (LSTM)                   (None, 32)           1284224     embedding_1[0][0]                \n",
      "__________________________________________________________________________________________________\n",
      "lstm_2 (LSTM)                   (None, 32)           1284224     embedding_2[0][0]                \n",
      "__________________________________________________________________________________________________\n",
      "concatenate_1 (Concatenate)     (None, 64)           0           lstm_1[0][0]                     \n",
      "                                                                 lstm_2[0][0]                     \n",
      "__________________________________________________________________________________________________\n",
      "dense_1 (Dense)                 (None, 500)          32500       concatenate_1[0][0]              \n",
      "==================================================================================================\n",
      "Total params: 3,560,948\n",
      "Trainable params: 3,560,948\n",
      "Non-trainable params: 0\n",
      "__________________________________________________________________________________________________\n"
     ]
    },
    {
     "data": {
      "image/svg+xml": [
       "<svg height=\"337pt\" viewBox=\"0.00 0.00 432.00 337.00\" width=\"432pt\" xmlns=\"http://www.w3.org/2000/svg\" xmlns:xlink=\"http://www.w3.org/1999/xlink\">\n",
       "<g class=\"graph\" id=\"graph0\" transform=\"scale(1 1) rotate(0) translate(4 333)\">\n",
       "<title>G</title>\n",
       "<polygon fill=\"white\" points=\"-4,4 -4,-333 428,-333 428,4 -4,4\" stroke=\"none\"/>\n",
       "<!-- 139639725715536 -->\n",
       "<g class=\"node\" id=\"node1\"><title>139639725715536</title>\n",
       "<polygon fill=\"none\" points=\"34.5,-292.5 34.5,-328.5 168.5,-328.5 168.5,-292.5 34.5,-292.5\" stroke=\"black\"/>\n",
       "<text font-family=\"Times,serif\" font-size=\"14.00\" text-anchor=\"middle\" x=\"101.5\" y=\"-306.8\">text: InputLayer</text>\n",
       "</g>\n",
       "<!-- 139639725715664 -->\n",
       "<g class=\"node\" id=\"node3\"><title>139639725715664</title>\n",
       "<polygon fill=\"none\" points=\"0,-219.5 0,-255.5 203,-255.5 203,-219.5 0,-219.5\" stroke=\"black\"/>\n",
       "<text font-family=\"Times,serif\" font-size=\"14.00\" text-anchor=\"middle\" x=\"101.5\" y=\"-233.8\">embedding_1: Embedding</text>\n",
       "</g>\n",
       "<!-- 139639725715536&#45;&gt;139639725715664 -->\n",
       "<g class=\"edge\" id=\"edge1\"><title>139639725715536-&gt;139639725715664</title>\n",
       "<path d=\"M101.5,-292.313C101.5,-284.289 101.5,-274.547 101.5,-265.569\" fill=\"none\" stroke=\"black\"/>\n",
       "<polygon fill=\"black\" points=\"105,-265.529 101.5,-255.529 98.0001,-265.529 105,-265.529\" stroke=\"black\"/>\n",
       "</g>\n",
       "<!-- 139637851209680 -->\n",
       "<g class=\"node\" id=\"node2\"><title>139637851209680</title>\n",
       "<polygon fill=\"none\" points=\"239,-292.5 239,-328.5 406,-328.5 406,-292.5 239,-292.5\" stroke=\"black\"/>\n",
       "<text font-family=\"Times,serif\" font-size=\"14.00\" text-anchor=\"middle\" x=\"322.5\" y=\"-306.8\">question: InputLayer</text>\n",
       "</g>\n",
       "<!-- 139637850806160 -->\n",
       "<g class=\"node\" id=\"node4\"><title>139637850806160</title>\n",
       "<polygon fill=\"none\" points=\"221,-219.5 221,-255.5 424,-255.5 424,-219.5 221,-219.5\" stroke=\"black\"/>\n",
       "<text font-family=\"Times,serif\" font-size=\"14.00\" text-anchor=\"middle\" x=\"322.5\" y=\"-233.8\">embedding_2: Embedding</text>\n",
       "</g>\n",
       "<!-- 139637851209680&#45;&gt;139637850806160 -->\n",
       "<g class=\"edge\" id=\"edge2\"><title>139637851209680-&gt;139637850806160</title>\n",
       "<path d=\"M322.5,-292.313C322.5,-284.289 322.5,-274.547 322.5,-265.569\" fill=\"none\" stroke=\"black\"/>\n",
       "<polygon fill=\"black\" points=\"326,-265.529 322.5,-255.529 319,-265.529 326,-265.529\" stroke=\"black\"/>\n",
       "</g>\n",
       "<!-- 139637851209616 -->\n",
       "<g class=\"node\" id=\"node5\"><title>139637851209616</title>\n",
       "<polygon fill=\"none\" points=\"86.5,-146.5 86.5,-182.5 202.5,-182.5 202.5,-146.5 86.5,-146.5\" stroke=\"black\"/>\n",
       "<text font-family=\"Times,serif\" font-size=\"14.00\" text-anchor=\"middle\" x=\"144.5\" y=\"-160.8\">lstm_1: LSTM</text>\n",
       "</g>\n",
       "<!-- 139639725715664&#45;&gt;139637851209616 -->\n",
       "<g class=\"edge\" id=\"edge3\"><title>139639725715664-&gt;139637851209616</title>\n",
       "<path d=\"M111.909,-219.313C117.032,-210.853 123.313,-200.484 128.988,-191.112\" fill=\"none\" stroke=\"black\"/>\n",
       "<polygon fill=\"black\" points=\"132,-192.896 134.187,-182.529 126.013,-189.269 132,-192.896\" stroke=\"black\"/>\n",
       "</g>\n",
       "<!-- 139637850804688 -->\n",
       "<g class=\"node\" id=\"node6\"><title>139637850804688</title>\n",
       "<polygon fill=\"none\" points=\"242.5,-146.5 242.5,-182.5 358.5,-182.5 358.5,-146.5 242.5,-146.5\" stroke=\"black\"/>\n",
       "<text font-family=\"Times,serif\" font-size=\"14.00\" text-anchor=\"middle\" x=\"300.5\" y=\"-160.8\">lstm_2: LSTM</text>\n",
       "</g>\n",
       "<!-- 139637850806160&#45;&gt;139637850804688 -->\n",
       "<g class=\"edge\" id=\"edge4\"><title>139637850806160-&gt;139637850804688</title>\n",
       "<path d=\"M317.174,-219.313C314.661,-211.202 311.604,-201.336 308.797,-192.277\" fill=\"none\" stroke=\"black\"/>\n",
       "<polygon fill=\"black\" points=\"312.08,-191.045 305.777,-182.529 305.393,-193.117 312.08,-191.045\" stroke=\"black\"/>\n",
       "</g>\n",
       "<!-- 139637849969616 -->\n",
       "<g class=\"node\" id=\"node7\"><title>139637849969616</title>\n",
       "<polygon fill=\"none\" points=\"112,-73.5 112,-109.5 333,-109.5 333,-73.5 112,-73.5\" stroke=\"black\"/>\n",
       "<text font-family=\"Times,serif\" font-size=\"14.00\" text-anchor=\"middle\" x=\"222.5\" y=\"-87.8\">concatenate_1: Concatenate</text>\n",
       "</g>\n",
       "<!-- 139637851209616&#45;&gt;139637849969616 -->\n",
       "<g class=\"edge\" id=\"edge5\"><title>139637851209616-&gt;139637849969616</title>\n",
       "<path d=\"M163.382,-146.313C173.25,-137.33 185.485,-126.193 196.259,-116.386\" fill=\"none\" stroke=\"black\"/>\n",
       "<polygon fill=\"black\" points=\"198.753,-118.849 203.792,-109.529 194.041,-113.672 198.753,-118.849\" stroke=\"black\"/>\n",
       "</g>\n",
       "<!-- 139637850804688&#45;&gt;139637849969616 -->\n",
       "<g class=\"edge\" id=\"edge6\"><title>139637850804688-&gt;139637849969616</title>\n",
       "<path d=\"M281.618,-146.313C271.75,-137.33 259.515,-126.193 248.741,-116.386\" fill=\"none\" stroke=\"black\"/>\n",
       "<polygon fill=\"black\" points=\"250.959,-113.672 241.208,-109.529 246.247,-118.849 250.959,-113.672\" stroke=\"black\"/>\n",
       "</g>\n",
       "<!-- 139637848873104 -->\n",
       "<g class=\"node\" id=\"node8\"><title>139637848873104</title>\n",
       "<polygon fill=\"none\" points=\"158.5,-0.5 158.5,-36.5 286.5,-36.5 286.5,-0.5 158.5,-0.5\" stroke=\"black\"/>\n",
       "<text font-family=\"Times,serif\" font-size=\"14.00\" text-anchor=\"middle\" x=\"222.5\" y=\"-14.8\">dense_1: Dense</text>\n",
       "</g>\n",
       "<!-- 139637849969616&#45;&gt;139637848873104 -->\n",
       "<g class=\"edge\" id=\"edge7\"><title>139637849969616-&gt;139637848873104</title>\n",
       "<path d=\"M222.5,-73.3129C222.5,-65.2895 222.5,-55.5475 222.5,-46.5691\" fill=\"none\" stroke=\"black\"/>\n",
       "<polygon fill=\"black\" points=\"226,-46.5288 222.5,-36.5288 219,-46.5289 226,-46.5288\" stroke=\"black\"/>\n",
       "</g>\n",
       "</g>\n",
       "</svg>"
      ],
      "text/plain": [
       "<IPython.core.display.SVG object>"
      ]
     },
     "execution_count": 4,
     "metadata": {},
     "output_type": "execute_result"
    }
   ],
   "source": [
    "model.summary()\n",
    "from IPython.display import SVG\n",
    "from keras.utils.vis_utils import model_to_dot\n",
    "\n",
    "SVG(model_to_dot(model).create(prog='dot', format='svg'))"
   ]
  },
  {
   "cell_type": "markdown",
   "metadata": {},
   "source": [
    "Feeding data in"
   ]
  },
  {
   "cell_type": "code",
   "execution_count": 7,
   "metadata": {},
   "outputs": [
    {
     "name": "stdout",
     "output_type": "stream",
     "text": [
      "Epoch 1/10\n",
      "1000/1000 [==============================] - 2s 2ms/step - loss: 0.0000e+00 - acc: 0.6090\n",
      "Epoch 2/10\n",
      "1000/1000 [==============================] - 2s 2ms/step - loss: 0.0000e+00 - acc: 0.6090\n",
      "Epoch 3/10\n",
      "1000/1000 [==============================] - 2s 2ms/step - loss: 0.0000e+00 - acc: 0.6090\n",
      "Epoch 4/10\n",
      "1000/1000 [==============================] - 2s 2ms/step - loss: 0.0000e+00 - acc: 0.6090\n",
      "Epoch 5/10\n",
      "1000/1000 [==============================] - 3s 3ms/step - loss: 0.0000e+00 - acc: 0.6090\n",
      "Epoch 6/10\n",
      "1000/1000 [==============================] - 3s 3ms/step - loss: 0.0000e+00 - acc: 0.6090\n",
      "Epoch 7/10\n",
      "1000/1000 [==============================] - 3s 3ms/step - loss: 0.0000e+00 - acc: 0.6090\n",
      "Epoch 8/10\n",
      "1000/1000 [==============================] - 2s 2ms/step - loss: 0.0000e+00 - acc: 0.6090\n",
      "Epoch 9/10\n",
      "1000/1000 [==============================] - 2s 2ms/step - loss: 0.0000e+00 - acc: 0.6090\n",
      "Epoch 10/10\n",
      "1000/1000 [==============================] - 2s 2ms/step - loss: 0.0000e+00 - acc: 0.6090\n"
     ]
    },
    {
     "data": {
      "text/plain": [
       "<keras.callbacks.History at 0x7efff82d8a90>"
      ]
     },
     "execution_count": 7,
     "metadata": {},
     "output_type": "execute_result"
    }
   ],
   "source": [
    "import numpy as np\n",
    "\n",
    "num_samples = 1000\n",
    "max_length = 100\n",
    "\n",
    "text = np.random.randint(1, text_vocabulary_size,\n",
    "                         size=(num_samples, max_length))\n",
    "\n",
    "question = np.random.randint(1, question_vocabulary_size,\n",
    "                             size=(num_samples, max_length))\n",
    "answers = np.random.randint(0, 1,\n",
    "                            size=(num_samples, answer_vocabulary_size))\n",
    "\n",
    "#model.fit([text, question], answers, epochs=10, batch_size=128)\n",
    "\n",
    "model.fit({'text': text, 'question': question},\n",
    "          answers, epochs=10, batch_size=128)"
   ]
  },
  {
   "cell_type": "markdown",
   "metadata": {},
   "source": [
    "### Multi-output"
   ]
  },
  {
   "cell_type": "code",
   "execution_count": 12,
   "metadata": {},
   "outputs": [],
   "source": [
    "from keras import layers\n",
    "from keras import Input\n",
    "from keras.models import Model\n",
    "\n",
    "vocabulary_size = 50000\n",
    "num_income_groups = 10\n",
    "\n",
    "posts_input = Input(shape=(None,), dtype='int32', name='posts')\n",
    "embedded_posts = layers.Embedding(256, vocabulary_size)(posts_input)\n",
    "x = layers.Conv1D(128, 5, activation='relu')(embedded_posts)\n",
    "x = layers.MaxPooling1D(5)(x)\n",
    "x = layers.Conv1D(256, 5, activation='relu')(x)\n",
    "x = layers.Conv1D(256, 5, activation='relu')(x)\n",
    "x = layers.MaxPooling1D(5)(x)\n",
    "x = layers.Conv1D(256, 5, activation='relu')(x)\n",
    "x = layers.Conv1D(256, 5, activation='relu')(x)\n",
    "x = layers.MaxPooling1D(5)(x)\n",
    "x = layers.Dense(128, activation='relu')(x)\n",
    "\n",
    "age_prediction = layers.Dense(1, name='age')(x)\n",
    "income_prediction = layers.Dense(num_income_groups,\n",
    "                                 activation='softmax',\n",
    "                                 name='income')(x)\n",
    "gender_prediction = layers.Dense(1, activation='sigmoid', name='gender')(x)\n",
    "\n",
    "model = Model(\n",
    "    posts_input, [age_prediction, income_prediction, gender_prediction])\n",
    "\n",
    "model.compile(optimizer='rmsprop',\n",
    "              loss=['mse', 'categorical_crossentropy', 'binary_crossentropy'])\n",
    "\n",
    "model.compile(optimizer='rmsprop',\n",
    "              loss={'age': 'mse',\n",
    "                    'income': 'categorical_crossentropy',\n",
    "                    'gender': 'binary_crossentropy'})\n",
    "\n",
    "# could weigh losses since the values will be in different ranges\n",
    "\n",
    "model.compile(optimizer='rmsprop',\n",
    "              loss={'age': 'mse',\n",
    "                    'income': 'categorical_crossentropy',\n",
    "                    'gender': 'binary_crossentropy'},\n",
    "              loss_weights={'age': 0.23,\n",
    "                            'income': 1.,\n",
    "                            'gender': 10.})\n",
    "\n",
    "#model.fit(age_targets, income_targets, gender_targets, epochs=10, batch_size=64)"
   ]
  },
  {
   "cell_type": "code",
   "execution_count": 13,
   "metadata": {},
   "outputs": [
    {
     "name": "stdout",
     "output_type": "stream",
     "text": [
      "__________________________________________________________________________________________________\n",
      "Layer (type)                    Output Shape         Param #     Connected to                     \n",
      "==================================================================================================\n",
      "posts (InputLayer)              (None, None)         0                                            \n",
      "__________________________________________________________________________________________________\n",
      "embedding_7 (Embedding)         (None, None, 50000)  12800000    posts[0][0]                      \n",
      "__________________________________________________________________________________________________\n",
      "conv1d_17 (Conv1D)              (None, None, 128)    32000128    embedding_7[0][0]                \n",
      "__________________________________________________________________________________________________\n",
      "max_pooling1d_10 (MaxPooling1D) (None, None, 128)    0           conv1d_17[0][0]                  \n",
      "__________________________________________________________________________________________________\n",
      "conv1d_18 (Conv1D)              (None, None, 256)    164096      max_pooling1d_10[0][0]           \n",
      "__________________________________________________________________________________________________\n",
      "conv1d_19 (Conv1D)              (None, None, 256)    327936      conv1d_18[0][0]                  \n",
      "__________________________________________________________________________________________________\n",
      "max_pooling1d_11 (MaxPooling1D) (None, None, 256)    0           conv1d_19[0][0]                  \n",
      "__________________________________________________________________________________________________\n",
      "conv1d_20 (Conv1D)              (None, None, 256)    327936      max_pooling1d_11[0][0]           \n",
      "__________________________________________________________________________________________________\n",
      "conv1d_21 (Conv1D)              (None, None, 256)    327936      conv1d_20[0][0]                  \n",
      "__________________________________________________________________________________________________\n",
      "max_pooling1d_12 (MaxPooling1D) (None, None, 256)    0           conv1d_21[0][0]                  \n",
      "__________________________________________________________________________________________________\n",
      "dense_5 (Dense)                 (None, None, 128)    32896       max_pooling1d_12[0][0]           \n",
      "__________________________________________________________________________________________________\n",
      "age (Dense)                     (None, None, 1)      129         dense_5[0][0]                    \n",
      "__________________________________________________________________________________________________\n",
      "income (Dense)                  (None, None, 10)     1290        dense_5[0][0]                    \n",
      "__________________________________________________________________________________________________\n",
      "gender (Dense)                  (None, None, 1)      129         dense_5[0][0]                    \n",
      "==================================================================================================\n",
      "Total params: 45,982,476\n",
      "Trainable params: 45,982,476\n",
      "Non-trainable params: 0\n",
      "__________________________________________________________________________________________________\n"
     ]
    },
    {
     "data": {
      "image/svg+xml": [
       "<svg height=\"848pt\" viewBox=\"0.00 0.00 381.50 848.00\" width=\"382pt\" xmlns=\"http://www.w3.org/2000/svg\" xmlns:xlink=\"http://www.w3.org/1999/xlink\">\n",
       "<g class=\"graph\" id=\"graph0\" transform=\"scale(1 1) rotate(0) translate(4 844)\">\n",
       "<title>G</title>\n",
       "<polygon fill=\"white\" points=\"-4,4 -4,-844 377.5,-844 377.5,4 -4,4\" stroke=\"none\"/>\n",
       "<!-- 139637839251920 -->\n",
       "<g class=\"node\" id=\"node1\"><title>139637839251920</title>\n",
       "<polygon fill=\"none\" points=\"102.5,-803.5 102.5,-839.5 246.5,-839.5 246.5,-803.5 102.5,-803.5\" stroke=\"black\"/>\n",
       "<text font-family=\"Times,serif\" font-size=\"14.00\" text-anchor=\"middle\" x=\"174.5\" y=\"-817.8\">posts: InputLayer</text>\n",
       "</g>\n",
       "<!-- 139637839186000 -->\n",
       "<g class=\"node\" id=\"node2\"><title>139637839186000</title>\n",
       "<polygon fill=\"none\" points=\"73,-730.5 73,-766.5 276,-766.5 276,-730.5 73,-730.5\" stroke=\"black\"/>\n",
       "<text font-family=\"Times,serif\" font-size=\"14.00\" text-anchor=\"middle\" x=\"174.5\" y=\"-744.8\">embedding_7: Embedding</text>\n",
       "</g>\n",
       "<!-- 139637839251920&#45;&gt;139637839186000 -->\n",
       "<g class=\"edge\" id=\"edge1\"><title>139637839251920-&gt;139637839186000</title>\n",
       "<path d=\"M174.5,-803.313C174.5,-795.289 174.5,-785.547 174.5,-776.569\" fill=\"none\" stroke=\"black\"/>\n",
       "<polygon fill=\"black\" points=\"178,-776.529 174.5,-766.529 171,-776.529 178,-776.529\" stroke=\"black\"/>\n",
       "</g>\n",
       "<!-- 139639725757712 -->\n",
       "<g class=\"node\" id=\"node3\"><title>139639725757712</title>\n",
       "<polygon fill=\"none\" points=\"94.5,-657.5 94.5,-693.5 254.5,-693.5 254.5,-657.5 94.5,-657.5\" stroke=\"black\"/>\n",
       "<text font-family=\"Times,serif\" font-size=\"14.00\" text-anchor=\"middle\" x=\"174.5\" y=\"-671.8\">conv1d_17: Conv1D</text>\n",
       "</g>\n",
       "<!-- 139637839186000&#45;&gt;139639725757712 -->\n",
       "<g class=\"edge\" id=\"edge2\"><title>139637839186000-&gt;139639725757712</title>\n",
       "<path d=\"M174.5,-730.313C174.5,-722.289 174.5,-712.547 174.5,-703.569\" fill=\"none\" stroke=\"black\"/>\n",
       "<polygon fill=\"black\" points=\"178,-703.529 174.5,-693.529 171,-703.529 178,-703.529\" stroke=\"black\"/>\n",
       "</g>\n",
       "<!-- 139637839250576 -->\n",
       "<g class=\"node\" id=\"node4\"><title>139637839250576</title>\n",
       "<polygon fill=\"none\" points=\"43,-584.5 43,-620.5 306,-620.5 306,-584.5 43,-584.5\" stroke=\"black\"/>\n",
       "<text font-family=\"Times,serif\" font-size=\"14.00\" text-anchor=\"middle\" x=\"174.5\" y=\"-598.8\">max_pooling1d_10: MaxPooling1D</text>\n",
       "</g>\n",
       "<!-- 139639725757712&#45;&gt;139637839250576 -->\n",
       "<g class=\"edge\" id=\"edge3\"><title>139639725757712-&gt;139637839250576</title>\n",
       "<path d=\"M174.5,-657.313C174.5,-649.289 174.5,-639.547 174.5,-630.569\" fill=\"none\" stroke=\"black\"/>\n",
       "<polygon fill=\"black\" points=\"178,-630.529 174.5,-620.529 171,-630.529 178,-630.529\" stroke=\"black\"/>\n",
       "</g>\n",
       "<!-- 139637839249552 -->\n",
       "<g class=\"node\" id=\"node5\"><title>139637839249552</title>\n",
       "<polygon fill=\"none\" points=\"94.5,-511.5 94.5,-547.5 254.5,-547.5 254.5,-511.5 94.5,-511.5\" stroke=\"black\"/>\n",
       "<text font-family=\"Times,serif\" font-size=\"14.00\" text-anchor=\"middle\" x=\"174.5\" y=\"-525.8\">conv1d_18: Conv1D</text>\n",
       "</g>\n",
       "<!-- 139637839250576&#45;&gt;139637839249552 -->\n",
       "<g class=\"edge\" id=\"edge4\"><title>139637839250576-&gt;139637839249552</title>\n",
       "<path d=\"M174.5,-584.313C174.5,-576.289 174.5,-566.547 174.5,-557.569\" fill=\"none\" stroke=\"black\"/>\n",
       "<polygon fill=\"black\" points=\"178,-557.529 174.5,-547.529 171,-557.529 178,-557.529\" stroke=\"black\"/>\n",
       "</g>\n",
       "<!-- 139637839658832 -->\n",
       "<g class=\"node\" id=\"node6\"><title>139637839658832</title>\n",
       "<polygon fill=\"none\" points=\"94.5,-438.5 94.5,-474.5 254.5,-474.5 254.5,-438.5 94.5,-438.5\" stroke=\"black\"/>\n",
       "<text font-family=\"Times,serif\" font-size=\"14.00\" text-anchor=\"middle\" x=\"174.5\" y=\"-452.8\">conv1d_19: Conv1D</text>\n",
       "</g>\n",
       "<!-- 139637839249552&#45;&gt;139637839658832 -->\n",
       "<g class=\"edge\" id=\"edge5\"><title>139637839249552-&gt;139637839658832</title>\n",
       "<path d=\"M174.5,-511.313C174.5,-503.289 174.5,-493.547 174.5,-484.569\" fill=\"none\" stroke=\"black\"/>\n",
       "<polygon fill=\"black\" points=\"178,-484.529 174.5,-474.529 171,-484.529 178,-484.529\" stroke=\"black\"/>\n",
       "</g>\n",
       "<!-- 139637839251856 -->\n",
       "<g class=\"node\" id=\"node7\"><title>139637839251856</title>\n",
       "<polygon fill=\"none\" points=\"43,-365.5 43,-401.5 306,-401.5 306,-365.5 43,-365.5\" stroke=\"black\"/>\n",
       "<text font-family=\"Times,serif\" font-size=\"14.00\" text-anchor=\"middle\" x=\"174.5\" y=\"-379.8\">max_pooling1d_11: MaxPooling1D</text>\n",
       "</g>\n",
       "<!-- 139637839658832&#45;&gt;139637839251856 -->\n",
       "<g class=\"edge\" id=\"edge6\"><title>139637839658832-&gt;139637839251856</title>\n",
       "<path d=\"M174.5,-438.313C174.5,-430.289 174.5,-420.547 174.5,-411.569\" fill=\"none\" stroke=\"black\"/>\n",
       "<polygon fill=\"black\" points=\"178,-411.529 174.5,-401.529 171,-411.529 178,-411.529\" stroke=\"black\"/>\n",
       "</g>\n",
       "<!-- 139637838501200 -->\n",
       "<g class=\"node\" id=\"node8\"><title>139637838501200</title>\n",
       "<polygon fill=\"none\" points=\"94.5,-292.5 94.5,-328.5 254.5,-328.5 254.5,-292.5 94.5,-292.5\" stroke=\"black\"/>\n",
       "<text font-family=\"Times,serif\" font-size=\"14.00\" text-anchor=\"middle\" x=\"174.5\" y=\"-306.8\">conv1d_20: Conv1D</text>\n",
       "</g>\n",
       "<!-- 139637839251856&#45;&gt;139637838501200 -->\n",
       "<g class=\"edge\" id=\"edge7\"><title>139637839251856-&gt;139637838501200</title>\n",
       "<path d=\"M174.5,-365.313C174.5,-357.289 174.5,-347.547 174.5,-338.569\" fill=\"none\" stroke=\"black\"/>\n",
       "<polygon fill=\"black\" points=\"178,-338.529 174.5,-328.529 171,-338.529 178,-338.529\" stroke=\"black\"/>\n",
       "</g>\n",
       "<!-- 139637839775888 -->\n",
       "<g class=\"node\" id=\"node9\"><title>139637839775888</title>\n",
       "<polygon fill=\"none\" points=\"94.5,-219.5 94.5,-255.5 254.5,-255.5 254.5,-219.5 94.5,-219.5\" stroke=\"black\"/>\n",
       "<text font-family=\"Times,serif\" font-size=\"14.00\" text-anchor=\"middle\" x=\"174.5\" y=\"-233.8\">conv1d_21: Conv1D</text>\n",
       "</g>\n",
       "<!-- 139637838501200&#45;&gt;139637839775888 -->\n",
       "<g class=\"edge\" id=\"edge8\"><title>139637838501200-&gt;139637839775888</title>\n",
       "<path d=\"M174.5,-292.313C174.5,-284.289 174.5,-274.547 174.5,-265.569\" fill=\"none\" stroke=\"black\"/>\n",
       "<polygon fill=\"black\" points=\"178,-265.529 174.5,-255.529 171,-265.529 178,-265.529\" stroke=\"black\"/>\n",
       "</g>\n",
       "<!-- 139637840190928 -->\n",
       "<g class=\"node\" id=\"node10\"><title>139637840190928</title>\n",
       "<polygon fill=\"none\" points=\"43,-146.5 43,-182.5 306,-182.5 306,-146.5 43,-146.5\" stroke=\"black\"/>\n",
       "<text font-family=\"Times,serif\" font-size=\"14.00\" text-anchor=\"middle\" x=\"174.5\" y=\"-160.8\">max_pooling1d_12: MaxPooling1D</text>\n",
       "</g>\n",
       "<!-- 139637839775888&#45;&gt;139637840190928 -->\n",
       "<g class=\"edge\" id=\"edge9\"><title>139637839775888-&gt;139637840190928</title>\n",
       "<path d=\"M174.5,-219.313C174.5,-211.289 174.5,-201.547 174.5,-192.569\" fill=\"none\" stroke=\"black\"/>\n",
       "<polygon fill=\"black\" points=\"178,-192.529 174.5,-182.529 171,-192.529 178,-192.529\" stroke=\"black\"/>\n",
       "</g>\n",
       "<!-- 139637840014416 -->\n",
       "<g class=\"node\" id=\"node11\"><title>139637840014416</title>\n",
       "<polygon fill=\"none\" points=\"110.5,-73.5 110.5,-109.5 238.5,-109.5 238.5,-73.5 110.5,-73.5\" stroke=\"black\"/>\n",
       "<text font-family=\"Times,serif\" font-size=\"14.00\" text-anchor=\"middle\" x=\"174.5\" y=\"-87.8\">dense_5: Dense</text>\n",
       "</g>\n",
       "<!-- 139637840190928&#45;&gt;139637840014416 -->\n",
       "<g class=\"edge\" id=\"edge10\"><title>139637840190928-&gt;139637840014416</title>\n",
       "<path d=\"M174.5,-146.313C174.5,-138.289 174.5,-128.547 174.5,-119.569\" fill=\"none\" stroke=\"black\"/>\n",
       "<polygon fill=\"black\" points=\"178,-119.529 174.5,-109.529 171,-119.529 178,-119.529\" stroke=\"black\"/>\n",
       "</g>\n",
       "<!-- 139637838586704 -->\n",
       "<g class=\"node\" id=\"node12\"><title>139637838586704</title>\n",
       "<polygon fill=\"none\" points=\"0,-0.5 0,-36.5 95,-36.5 95,-0.5 0,-0.5\" stroke=\"black\"/>\n",
       "<text font-family=\"Times,serif\" font-size=\"14.00\" text-anchor=\"middle\" x=\"47.5\" y=\"-14.8\">age: Dense</text>\n",
       "</g>\n",
       "<!-- 139637840014416&#45;&gt;139637838586704 -->\n",
       "<g class=\"edge\" id=\"edge11\"><title>139637840014416-&gt;139637838586704</title>\n",
       "<path d=\"M144.08,-73.4937C126.927,-63.9042 105.306,-51.8167 86.8716,-41.5109\" fill=\"none\" stroke=\"black\"/>\n",
       "<polygon fill=\"black\" points=\"88.5481,-38.4384 78.1116,-36.6136 85.1323,-44.5484 88.5481,-38.4384\" stroke=\"black\"/>\n",
       "</g>\n",
       "<!-- 139637775803344 -->\n",
       "<g class=\"node\" id=\"node13\"><title>139637775803344</title>\n",
       "<polygon fill=\"none\" points=\"113.5,-0.5 113.5,-36.5 235.5,-36.5 235.5,-0.5 113.5,-0.5\" stroke=\"black\"/>\n",
       "<text font-family=\"Times,serif\" font-size=\"14.00\" text-anchor=\"middle\" x=\"174.5\" y=\"-14.8\">income: Dense</text>\n",
       "</g>\n",
       "<!-- 139637840014416&#45;&gt;139637775803344 -->\n",
       "<g class=\"edge\" id=\"edge12\"><title>139637840014416-&gt;139637775803344</title>\n",
       "<path d=\"M174.5,-73.3129C174.5,-65.2895 174.5,-55.5475 174.5,-46.5691\" fill=\"none\" stroke=\"black\"/>\n",
       "<polygon fill=\"black\" points=\"178,-46.5288 174.5,-36.5288 171,-46.5289 178,-46.5288\" stroke=\"black\"/>\n",
       "</g>\n",
       "<!-- 139637835505936 -->\n",
       "<g class=\"node\" id=\"node14\"><title>139637835505936</title>\n",
       "<polygon fill=\"none\" points=\"253.5,-0.5 253.5,-36.5 373.5,-36.5 373.5,-0.5 253.5,-0.5\" stroke=\"black\"/>\n",
       "<text font-family=\"Times,serif\" font-size=\"14.00\" text-anchor=\"middle\" x=\"313.5\" y=\"-14.8\">gender: Dense</text>\n",
       "</g>\n",
       "<!-- 139637840014416&#45;&gt;139637835505936 -->\n",
       "<g class=\"edge\" id=\"edge13\"><title>139637840014416-&gt;139637835505936</title>\n",
       "<path d=\"M207.794,-73.4937C226.739,-63.817 250.663,-51.5967 270.958,-41.2303\" fill=\"none\" stroke=\"black\"/>\n",
       "<polygon fill=\"black\" points=\"272.683,-44.2794 279.996,-36.6136 269.498,-38.0456 272.683,-44.2794\" stroke=\"black\"/>\n",
       "</g>\n",
       "</g>\n",
       "</svg>"
      ],
      "text/plain": [
       "<IPython.core.display.SVG object>"
      ]
     },
     "execution_count": 13,
     "metadata": {},
     "output_type": "execute_result"
    }
   ],
   "source": [
    "model.summary()\n",
    "SVG(model_to_dot(model).create(prog='dot', format='svg'))"
   ]
  },
  {
   "cell_type": "markdown",
   "metadata": {},
   "source": [
    "### Inception Network"
   ]
  },
  {
   "cell_type": "code",
   "execution_count": 15,
   "metadata": {},
   "outputs": [
    {
     "ename": "ValueError",
     "evalue": "Input 0 is incompatible with layer conv2d_2: expected ndim=4, found ndim=3",
     "output_type": "error",
     "traceback": [
      "\u001b[0;31m---------------------------------------------------------------------------\u001b[0m",
      "\u001b[0;31mValueError\u001b[0m                                Traceback (most recent call last)",
      "\u001b[0;32m<ipython-input-15-bb2c0af437b8>\u001b[0m in \u001b[0;36m<module>\u001b[0;34m()\u001b[0m\n\u001b[1;32m      2\u001b[0m \u001b[0;34m\u001b[0m\u001b[0m\n\u001b[1;32m      3\u001b[0m branch_a = layers.Conv2D(128, 1,\n\u001b[0;32m----> 4\u001b[0;31m                         activation='relu', strides=2)(x)\n\u001b[0m\u001b[1;32m      5\u001b[0m \u001b[0mbranch_b\u001b[0m \u001b[0;34m=\u001b[0m \u001b[0mlayers\u001b[0m\u001b[0;34m.\u001b[0m\u001b[0mconv2D\u001b[0m\u001b[0;34m(\u001b[0m\u001b[0;36m128\u001b[0m\u001b[0;34m,\u001b[0m \u001b[0;36m1\u001b[0m\u001b[0;34m,\u001b[0m \u001b[0mactivation\u001b[0m\u001b[0;34m=\u001b[0m\u001b[0;34m'relu'\u001b[0m\u001b[0;34m)\u001b[0m\u001b[0;34m(\u001b[0m\u001b[0mx\u001b[0m\u001b[0;34m)\u001b[0m\u001b[0;34m\u001b[0m\u001b[0m\n\u001b[1;32m      6\u001b[0m \u001b[0mbranch_b\u001b[0m \u001b[0;34m=\u001b[0m \u001b[0mlayers\u001b[0m\u001b[0;34m.\u001b[0m\u001b[0mconv2D\u001b[0m\u001b[0;34m(\u001b[0m\u001b[0;36m128\u001b[0m\u001b[0;34m,\u001b[0m \u001b[0;36m3\u001b[0m\u001b[0;34m,\u001b[0m \u001b[0mactivation\u001b[0m\u001b[0;34m=\u001b[0m\u001b[0;34m'relu'\u001b[0m\u001b[0;34m)\u001b[0m\u001b[0;34m(\u001b[0m\u001b[0mbranch_b\u001b[0m\u001b[0;34m)\u001b[0m\u001b[0;34m\u001b[0m\u001b[0m\n",
      "\u001b[0;32m/home/dhodun/.local/lib/python2.7/site-packages/keras/engine/topology.pyc\u001b[0m in \u001b[0;36m__call__\u001b[0;34m(self, inputs, **kwargs)\u001b[0m\n\u001b[1;32m    557\u001b[0m                 \u001b[0;31m# Raise exceptions in case the input is not compatible\u001b[0m\u001b[0;34m\u001b[0m\u001b[0;34m\u001b[0m\u001b[0m\n\u001b[1;32m    558\u001b[0m                 \u001b[0;31m# with the input_spec specified in the layer constructor.\u001b[0m\u001b[0;34m\u001b[0m\u001b[0;34m\u001b[0m\u001b[0m\n\u001b[0;32m--> 559\u001b[0;31m                 \u001b[0mself\u001b[0m\u001b[0;34m.\u001b[0m\u001b[0massert_input_compatibility\u001b[0m\u001b[0;34m(\u001b[0m\u001b[0minputs\u001b[0m\u001b[0;34m)\u001b[0m\u001b[0;34m\u001b[0m\u001b[0m\n\u001b[0m\u001b[1;32m    560\u001b[0m \u001b[0;34m\u001b[0m\u001b[0m\n\u001b[1;32m    561\u001b[0m                 \u001b[0;31m# Collect input shapes to build layer.\u001b[0m\u001b[0;34m\u001b[0m\u001b[0;34m\u001b[0m\u001b[0m\n",
      "\u001b[0;32m/home/dhodun/.local/lib/python2.7/site-packages/keras/engine/topology.pyc\u001b[0m in \u001b[0;36massert_input_compatibility\u001b[0;34m(self, inputs)\u001b[0m\n\u001b[1;32m    456\u001b[0m                                      \u001b[0mself\u001b[0m\u001b[0;34m.\u001b[0m\u001b[0mname\u001b[0m \u001b[0;34m+\u001b[0m \u001b[0;34m': expected ndim='\u001b[0m \u001b[0;34m+\u001b[0m\u001b[0;34m\u001b[0m\u001b[0m\n\u001b[1;32m    457\u001b[0m                                      \u001b[0mstr\u001b[0m\u001b[0;34m(\u001b[0m\u001b[0mspec\u001b[0m\u001b[0;34m.\u001b[0m\u001b[0mndim\u001b[0m\u001b[0;34m)\u001b[0m \u001b[0;34m+\u001b[0m \u001b[0;34m', found ndim='\u001b[0m \u001b[0;34m+\u001b[0m\u001b[0;34m\u001b[0m\u001b[0m\n\u001b[0;32m--> 458\u001b[0;31m                                      str(K.ndim(x)))\n\u001b[0m\u001b[1;32m    459\u001b[0m             \u001b[0;32mif\u001b[0m \u001b[0mspec\u001b[0m\u001b[0;34m.\u001b[0m\u001b[0mmax_ndim\u001b[0m \u001b[0;32mis\u001b[0m \u001b[0;32mnot\u001b[0m \u001b[0mNone\u001b[0m\u001b[0;34m:\u001b[0m\u001b[0;34m\u001b[0m\u001b[0m\n\u001b[1;32m    460\u001b[0m                 \u001b[0mndim\u001b[0m \u001b[0;34m=\u001b[0m \u001b[0mK\u001b[0m\u001b[0;34m.\u001b[0m\u001b[0mndim\u001b[0m\u001b[0;34m(\u001b[0m\u001b[0mx\u001b[0m\u001b[0;34m)\u001b[0m\u001b[0;34m\u001b[0m\u001b[0m\n",
      "\u001b[0;31mValueError\u001b[0m: Input 0 is incompatible with layer conv2d_2: expected ndim=4, found ndim=3"
     ]
    }
   ],
   "source": [
    "from keras import layers\n",
    "\n",
    "branch_a = layers.Conv2D(128, 1,\n",
    "                        activation='relu', strides=2)(x)\n",
    "branch_b = layers.conv2D(128, 1, activation='relu')(x)\n",
    "branch_b = layers.conv2D(128, 3, activation='relu')(branch_b)\n",
    "\n",
    "branch_c = layers.AveragePooling2D(3, strides=2)(x)\n",
    "branch_c = layers.Conv2D(128, 3, activation='relu')(branch_c)\n",
    "\n",
    "branch_d = layers.Conv2D(128, 1, activation='relu')(x)\n",
    "branch_d = layers.Conv2D(128, 3, activation='relu')(branch_d)\n",
    "branch_d = layers.Conv2D(128, 3, activation='relu')(branch_d)\n",
    "\n",
    "output = layers.concatenate(\n",
    "    [branch_a, branch_b, branch_c])\n"
   ]
  },
  {
   "cell_type": "markdown",
   "metadata": {},
   "source": [
    "Residual Layer"
   ]
  },
  {
   "cell_type": "code",
   "execution_count": null,
   "metadata": {},
   "outputs": [],
   "source": [
    "x = ...\n",
    "y = layers.Conv2D(128, 3, activation='relu', padding = 'same')(x)\n",
    "y = layers.Conv2D(128, 3, activation='relu', padding = 'same')(y)\n",
    "y = layers.Conv2D(128, 3, activation='relu', padding = 'same')(y)\n",
    "\n",
    "y = layers.add([y, x])"
   ]
  }
 ],
 "metadata": {
  "kernelspec": {
   "display_name": "Python 2",
   "language": "python",
   "name": "python2"
  },
  "language_info": {
   "codemirror_mode": {
    "name": "ipython",
    "version": 2
   },
   "file_extension": ".py",
   "mimetype": "text/x-python",
   "name": "python",
   "nbconvert_exporter": "python",
   "pygments_lexer": "ipython2",
   "version": "2.7.12"
  }
 },
 "nbformat": 4,
 "nbformat_minor": 2
}

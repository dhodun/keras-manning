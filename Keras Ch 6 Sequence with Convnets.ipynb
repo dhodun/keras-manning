{
 "cells": [
  {
   "cell_type": "markdown",
   "metadata": {},
   "source": [
    "### 1D Convnet on IMDB Data"
   ]
  },
  {
   "cell_type": "code",
   "execution_count": 1,
   "metadata": {},
   "outputs": [
    {
     "name": "stderr",
     "output_type": "stream",
     "text": [
      "Using TensorFlow backend.\n"
     ]
    },
    {
     "name": "stdout",
     "output_type": "stream",
     "text": [
      "loading data\n",
      "Pad Sequences (samples x time)\n",
      "('x_train.shape:', (25000, 500))\n",
      "('x_test.shape:', (25000, 500))\n"
     ]
    }
   ],
   "source": [
    "from keras.datasets import imdb\n",
    "from keras.preprocessing import sequence\n",
    "\n",
    "max_features = 10000\n",
    "max_len = 500\n",
    "\n",
    "print('loading data')\n",
    "(x_train, y_train), (x_test, y_test) = imdb.load_data(num_words=max_features)\n",
    "\n",
    "print('Pad Sequences (samples x time)')\n",
    "x_train = sequence.pad_sequences(x_train, maxlen=max_len)\n",
    "x_test = sequence.pad_sequences(x_test, maxlen=max_len)\n",
    "print('x_train.shape:', x_train.shape)\n",
    "print('x_test.shape:', x_test.shape)"
   ]
  },
  {
   "cell_type": "code",
   "execution_count": 2,
   "metadata": {},
   "outputs": [
    {
     "name": "stdout",
     "output_type": "stream",
     "text": [
      "_________________________________________________________________\n",
      "Layer (type)                 Output Shape              Param #   \n",
      "=================================================================\n",
      "embedding_1 (Embedding)      (None, 500, 128)          1280000   \n",
      "_________________________________________________________________\n",
      "conv1d_1 (Conv1D)            (None, 494, 32)           28704     \n",
      "_________________________________________________________________\n",
      "max_pooling1d_1 (MaxPooling1 (None, 98, 32)            0         \n",
      "_________________________________________________________________\n",
      "conv1d_2 (Conv1D)            (None, 85, 32)            14368     \n",
      "_________________________________________________________________\n",
      "global_max_pooling1d_1 (Glob (None, 32)                0         \n",
      "_________________________________________________________________\n",
      "dense_1 (Dense)              (None, 1)                 33        \n",
      "=================================================================\n",
      "Total params: 1,323,105\n",
      "Trainable params: 1,323,105\n",
      "Non-trainable params: 0\n",
      "_________________________________________________________________\n"
     ]
    }
   ],
   "source": [
    "%matplotlib inline\n",
    "\n",
    "from keras import models\n",
    "from keras import layers\n",
    "from keras.optimizers import RMSprop\n",
    "\n",
    "from util import print_curves\n",
    "\n",
    "from IPython.display import SVG\n",
    "from keras.utils.vis_utils import model_to_dot\n",
    "\n",
    "\n",
    "def plot_model_jupyter(model):\n",
    "    SVG(model_to_dot(model).create(prog='dot', format='svg'))\n",
    "\n",
    "\n",
    "model = models.Sequential()\n",
    "model.add(layers.Embedding(max_features, 128, input_length=max_len))\n",
    "model.add(layers.Conv1D(32, 7, activation='relu'))\n",
    "model.add(layers.MaxPooling1D(5))\n",
    "model.add(layers.Conv1D(32, 14, activation='relu'))\n",
    "# default pool size 2\n",
    "model.add(layers.GlobalMaxPooling1D())\n",
    "model.add(layers.Dense(1, activation='sigmoid'))\n",
    "\n",
    "model.summary()\n",
    "plot_model_jupyter(model)"
   ]
  },
  {
   "cell_type": "code",
   "execution_count": 3,
   "metadata": {},
   "outputs": [],
   "source": [
    "plot_model_jupyter(model)"
   ]
  },
  {
   "cell_type": "code",
   "execution_count": 4,
   "metadata": {},
   "outputs": [
    {
     "name": "stdout",
     "output_type": "stream",
     "text": [
      "Train on 20000 samples, validate on 5000 samples\n",
      "Epoch 1/10\n",
      "20000/20000 [==============================] - 3s 151us/step - loss: 0.4946 - acc: 0.7414 - val_loss: 0.3218 - val_acc: 0.8626\n",
      "Epoch 2/10\n",
      "20000/20000 [==============================] - 2s 77us/step - loss: 0.2538 - acc: 0.8973 - val_loss: 0.3102 - val_acc: 0.8682\n",
      "Epoch 3/10\n",
      "20000/20000 [==============================] - 2s 77us/step - loss: 0.1870 - acc: 0.9268 - val_loss: 0.3986 - val_acc: 0.8468\n",
      "Epoch 4/10\n",
      "20000/20000 [==============================] - 2s 78us/step - loss: 0.1380 - acc: 0.9484 - val_loss: 0.3312 - val_acc: 0.8782\n",
      "Epoch 5/10\n",
      "20000/20000 [==============================] - 2s 78us/step - loss: 0.0963 - acc: 0.9662 - val_loss: 0.3757 - val_acc: 0.8770\n",
      "Epoch 6/10\n",
      "20000/20000 [==============================] - 2s 77us/step - loss: 0.0632 - acc: 0.9802 - val_loss: 0.4155 - val_acc: 0.8770\n",
      "Epoch 7/10\n",
      "20000/20000 [==============================] - 2s 77us/step - loss: 0.0356 - acc: 0.9901 - val_loss: 0.5837 - val_acc: 0.8564\n",
      "Epoch 8/10\n",
      "20000/20000 [==============================] - 2s 78us/step - loss: 0.0192 - acc: 0.9956 - val_loss: 0.6197 - val_acc: 0.8588\n",
      "Epoch 9/10\n",
      "20000/20000 [==============================] - 2s 76us/step - loss: 0.0085 - acc: 0.9982 - val_loss: 0.6266 - val_acc: 0.8724\n",
      "Epoch 10/10\n",
      "20000/20000 [==============================] - 2s 79us/step - loss: 0.0045 - acc: 0.9990 - val_loss: 0.6757 - val_acc: 0.8706\n",
      "Max Val Acc: 0.8782\n",
      "Min Val Loss: 0.310200035405\n"
     ]
    },
    {
     "data": {
      "image/png": "[encoded data removed]",
      "text/plain": [
       "<matplotlib.figure.Figure at 0x7fed720c17d0>"
      ]
     },
     "metadata": {},
     "output_type": "display_data"
    },
    {
     "data": {
      "image/png": "[encoded data removed]",
      "text/plain": [
       "<matplotlib.figure.Figure at 0x7fed725c7ad0>"
      ]
     },
     "metadata": {},
     "output_type": "display_data"
    }
   ],
   "source": [
    "model.compile(optimizer=RMSprop(), loss='binary_crossentropy', metrics=['acc'])\n",
    "history = model.fit(\n",
    "    x_train,\n",
    "    y_train,\n",
    "    epochs=10,\n",
    "    batch_size=128,\n",
    "    validation_split=0.2)\n",
    "\n",
    "print_curves(history)"
   ]
  },
  {
   "cell_type": "code",
   "execution_count": 5,
   "metadata": {},
   "outputs": [],
   "source": [
    "plot_model_jupyter(model)"
   ]
  },
  {
   "cell_type": "code",
   "execution_count": 6,
   "metadata": {},
   "outputs": [
    {
     "data": {
      "image/svg+xml": [
       "<svg height=\"483pt\" viewBox=\"0.00 0.00 359.00 483.00\" width=\"359pt\" xmlns=\"http://www.w3.org/2000/svg\" xmlns:xlink=\"http://www.w3.org/1999/xlink\">\n",
       "<g class=\"graph\" id=\"graph0\" transform=\"scale(1 1) rotate(0) translate(4 479)\">\n",
       "<title>G</title>\n",
       "<polygon fill=\"white\" points=\"-4,4 -4,-479 355,-479 355,4 -4,4\" stroke=\"none\"/>\n",
       "<!-- 140657803786320 -->\n",
       "<g class=\"node\" id=\"node1\"><title>140657803786320</title>\n",
       "<polygon fill=\"none\" points=\"52,-438.5 52,-474.5 299,-474.5 299,-438.5 52,-438.5\" stroke=\"black\"/>\n",
       "<text font-family=\"Times,serif\" font-size=\"14.00\" text-anchor=\"middle\" x=\"175.5\" y=\"-452.8\">embedding_1_input: InputLayer</text>\n",
       "</g>\n",
       "<!-- 140657803785872 -->\n",
       "<g class=\"node\" id=\"node2\"><title>140657803785872</title>\n",
       "<polygon fill=\"none\" points=\"74,-365.5 74,-401.5 277,-401.5 277,-365.5 74,-365.5\" stroke=\"black\"/>\n",
       "<text font-family=\"Times,serif\" font-size=\"14.00\" text-anchor=\"middle\" x=\"175.5\" y=\"-379.8\">embedding_1: Embedding</text>\n",
       "</g>\n",
       "<!-- 140657803786320&#45;&gt;140657803785872 -->\n",
       "<g class=\"edge\" id=\"edge1\"><title>140657803786320-&gt;140657803785872</title>\n",
       "<path d=\"M175.5,-438.313C175.5,-430.289 175.5,-420.547 175.5,-411.569\" fill=\"none\" stroke=\"black\"/>\n",
       "<polygon fill=\"black\" points=\"179,-411.529 175.5,-401.529 172,-411.529 179,-411.529\" stroke=\"black\"/>\n",
       "</g>\n",
       "<!-- 140657803726032 -->\n",
       "<g class=\"node\" id=\"node3\"><title>140657803726032</title>\n",
       "<polygon fill=\"none\" points=\"100,-292.5 100,-328.5 251,-328.5 251,-292.5 100,-292.5\" stroke=\"black\"/>\n",
       "<text font-family=\"Times,serif\" font-size=\"14.00\" text-anchor=\"middle\" x=\"175.5\" y=\"-306.8\">conv1d_1: Conv1D</text>\n",
       "</g>\n",
       "<!-- 140657803785872&#45;&gt;140657803726032 -->\n",
       "<g class=\"edge\" id=\"edge2\"><title>140657803785872-&gt;140657803726032</title>\n",
       "<path d=\"M175.5,-365.313C175.5,-357.289 175.5,-347.547 175.5,-338.569\" fill=\"none\" stroke=\"black\"/>\n",
       "<polygon fill=\"black\" points=\"179,-338.529 175.5,-328.529 172,-338.529 179,-338.529\" stroke=\"black\"/>\n",
       "</g>\n",
       "<!-- 140657803786640 -->\n",
       "<g class=\"node\" id=\"node4\"><title>140657803786640</title>\n",
       "<polygon fill=\"none\" points=\"48.5,-219.5 48.5,-255.5 302.5,-255.5 302.5,-219.5 48.5,-219.5\" stroke=\"black\"/>\n",
       "<text font-family=\"Times,serif\" font-size=\"14.00\" text-anchor=\"middle\" x=\"175.5\" y=\"-233.8\">max_pooling1d_1: MaxPooling1D</text>\n",
       "</g>\n",
       "<!-- 140657803726032&#45;&gt;140657803786640 -->\n",
       "<g class=\"edge\" id=\"edge3\"><title>140657803726032-&gt;140657803786640</title>\n",
       "<path d=\"M175.5,-292.313C175.5,-284.289 175.5,-274.547 175.5,-265.569\" fill=\"none\" stroke=\"black\"/>\n",
       "<polygon fill=\"black\" points=\"179,-265.529 175.5,-255.529 172,-265.529 179,-265.529\" stroke=\"black\"/>\n",
       "</g>\n",
       "<!-- 140657803786960 -->\n",
       "<g class=\"node\" id=\"node5\"><title>140657803786960</title>\n",
       "<polygon fill=\"none\" points=\"100,-146.5 100,-182.5 251,-182.5 251,-146.5 100,-146.5\" stroke=\"black\"/>\n",
       "<text font-family=\"Times,serif\" font-size=\"14.00\" text-anchor=\"middle\" x=\"175.5\" y=\"-160.8\">conv1d_2: Conv1D</text>\n",
       "</g>\n",
       "<!-- 140657803786640&#45;&gt;140657803786960 -->\n",
       "<g class=\"edge\" id=\"edge4\"><title>140657803786640-&gt;140657803786960</title>\n",
       "<path d=\"M175.5,-219.313C175.5,-211.289 175.5,-201.547 175.5,-192.569\" fill=\"none\" stroke=\"black\"/>\n",
       "<polygon fill=\"black\" points=\"179,-192.529 175.5,-182.529 172,-192.529 179,-192.529\" stroke=\"black\"/>\n",
       "</g>\n",
       "<!-- 140657803519248 -->\n",
       "<g class=\"node\" id=\"node6\"><title>140657803519248</title>\n",
       "<polygon fill=\"none\" points=\"0,-73.5 0,-109.5 351,-109.5 351,-73.5 0,-73.5\" stroke=\"black\"/>\n",
       "<text font-family=\"Times,serif\" font-size=\"14.00\" text-anchor=\"middle\" x=\"175.5\" y=\"-87.8\">global_max_pooling1d_1: GlobalMaxPooling1D</text>\n",
       "</g>\n",
       "<!-- 140657803786960&#45;&gt;140657803519248 -->\n",
       "<g class=\"edge\" id=\"edge5\"><title>140657803786960-&gt;140657803519248</title>\n",
       "<path d=\"M175.5,-146.313C175.5,-138.289 175.5,-128.547 175.5,-119.569\" fill=\"none\" stroke=\"black\"/>\n",
       "<polygon fill=\"black\" points=\"179,-119.529 175.5,-109.529 172,-119.529 179,-119.529\" stroke=\"black\"/>\n",
       "</g>\n",
       "<!-- 140657803725392 -->\n",
       "<g class=\"node\" id=\"node7\"><title>140657803725392</title>\n",
       "<polygon fill=\"none\" points=\"111.5,-0.5 111.5,-36.5 239.5,-36.5 239.5,-0.5 111.5,-0.5\" stroke=\"black\"/>\n",
       "<text font-family=\"Times,serif\" font-size=\"14.00\" text-anchor=\"middle\" x=\"175.5\" y=\"-14.8\">dense_1: Dense</text>\n",
       "</g>\n",
       "<!-- 140657803519248&#45;&gt;140657803725392 -->\n",
       "<g class=\"edge\" id=\"edge6\"><title>140657803519248-&gt;140657803725392</title>\n",
       "<path d=\"M175.5,-73.3129C175.5,-65.2895 175.5,-55.5475 175.5,-46.5691\" fill=\"none\" stroke=\"black\"/>\n",
       "<polygon fill=\"black\" points=\"179,-46.5288 175.5,-36.5288 172,-46.5289 179,-46.5288\" stroke=\"black\"/>\n",
       "</g>\n",
       "</g>\n",
       "</svg>"
      ],
      "text/plain": [
       "<IPython.core.display.SVG object>"
      ]
     },
     "execution_count": 6,
     "metadata": {},
     "output_type": "execute_result"
    }
   ],
   "source": [
    "SVG(model_to_dot(model).create(prog='dot', format='svg'))"
   ]
  },
  {
   "cell_type": "code",
   "execution_count": 7,
   "metadata": {},
   "outputs": [
    {
     "name": "stdout",
     "output_type": "stream",
     "text": [
      "25000/25000 [==============================] - 1s 50us/step\n"
     ]
    },
    {
     "data": {
      "text/plain": [
       "[0.74228758404254913, 0.85128000000000004]"
      ]
     },
     "execution_count": 7,
     "metadata": {},
     "output_type": "execute_result"
    }
   ],
   "source": [
    "model.evaluate(x_test, y_test)"
   ]
  },
  {
   "cell_type": "markdown",
   "metadata": {},
   "source": [
    "### Try on Temperature Dataset"
   ]
  },
  {
   "cell_type": "code",
   "execution_count": 8,
   "metadata": {},
   "outputs": [],
   "source": [
    "import os\n",
    "import pandas as pd\n",
    "\n",
    "data_dir = './Downloads/'\n",
    "fname = os.path.join(data_dir, 'jena_climate_2009_2016.csv')\n",
    "df = pd.read_csv(fname)"
   ]
  },
  {
   "cell_type": "code",
   "execution_count": 9,
   "metadata": {},
   "outputs": [],
   "source": [
    "df_time = df\n",
    "df = df.drop('Date Time', axis=1)\n",
    "mean = df.mean(0)\n",
    "std = df.std(0)\n",
    "# standardize data\n",
    "df = df.sub(mean, axis=1).div(std, axis=1)"
   ]
  },
  {
   "cell_type": "code",
   "execution_count": 10,
   "metadata": {},
   "outputs": [],
   "source": [
    "import numpy as np\n",
    "\n",
    "\n",
    "def generator(data, lookback, delay, min_index, max_index,\n",
    "              shuffle=False, batch_size=128, step=6,\n",
    "              reverse=False):\n",
    "    if max_index is None:\n",
    "        max_index = len(data) - delay - 1\n",
    "    i = min_index + lookback\n",
    "\n",
    "    # create offset so we don't see the same 1/step th of data in non-shuffled\n",
    "    # scenario\n",
    "    offset = 1\n",
    "\n",
    "    while True:\n",
    "        if shuffle:\n",
    "            rows = np.random.randint(\n",
    "                min_index + lookback, max_index, size=batch_size)\n",
    "        else:\n",
    "            if i + batch_size >= max_index:\n",
    "                # won't this reset the generator to the same place, esentially not giving us 1/6 of the data?\n",
    "                # might be somewhat trivial since we're taking hourly samples,\n",
    "                # so data only has changed by an hour and we're reading across\n",
    "                # 8 years total dataset\n",
    "                i = min_index + lookback + offset\n",
    "                offset += 1\n",
    "                if offset == step:\n",
    "                    offset = 0\n",
    "            rows = np.arange(i, min(i + batch_size, max_index))\n",
    "            i += len(rows)\n",
    "        samples = np.zeros((len(rows),\n",
    "                            lookback // step,\n",
    "                            data.shape[-1]))\n",
    "        targets = np.zeros((len(rows),))\n",
    "        for j, row in enumerate(rows):\n",
    "            indices = range(rows[j] - lookback, rows[j], step)\n",
    "            samples[j] = data[indices]\n",
    "            targets[j] = data[rows[j] + delay][1]\n",
    "        if reverse:\n",
    "            yield samples[:, ::-1, :], targets\n",
    "        else:\n",
    "            yield samples, targets"
   ]
  },
  {
   "cell_type": "code",
   "execution_count": 11,
   "metadata": {},
   "outputs": [],
   "source": [
    "lookback = 1440\n",
    "step = 6\n",
    "delay = 144\n",
    "batch_size = 128\n",
    "num_features = df.shape[1]"
   ]
  },
  {
   "cell_type": "code",
   "execution_count": 12,
   "metadata": {},
   "outputs": [],
   "source": [
    "train_gen = generator(\n",
    "    df.values,\n",
    "    lookback=lookback,\n",
    "    delay=delay,\n",
    "    min_index=0,\n",
    "    max_index=200000,\n",
    "    shuffle=True,\n",
    "    step=step,\n",
    "    batch_size=batch_size)\n",
    "\n",
    "val_gen = generator(\n",
    "    df.values,\n",
    "    lookback=lookback,\n",
    "    delay=delay,\n",
    "    min_index=200001,\n",
    "    max_index=300000,\n",
    "    step=step,\n",
    "    batch_size=batch_size)\n",
    "\n",
    "test_gen = generator(\n",
    "    df.values,\n",
    "    lookback=lookback,\n",
    "    delay=delay,\n",
    "    min_index=300001,\n",
    "    max_index=None,\n",
    "    step=step,\n",
    "    batch_size=batch_size)\n",
    "\n",
    "# how many train steps to see entire dataset\n",
    "train_steps = (200000 - lookback) // batch_size\n",
    "\n",
    "# how many val steps to see entire dataset\n",
    "val_steps = (300000 - 200001 - lookback) // batch_size\n",
    "\n",
    "# how many test steps to see entire dataset\n",
    "test_steps = (len(df) - 300001 - lookback) // batch_size\n",
    "\n",
    "# need to check if we're processing the cursor at all, i.e. are we only\n",
    "# seeing 1/6 of the data since we're sampling every 6 hours\n",
    "# Actually, we're shuffling, so that should take care of it, but only for\n",
    "# training, in theory you want to run through 6 times, offestting,\n",
    "# something like that"
   ]
  },
  {
   "cell_type": "code",
   "execution_count": 13,
   "metadata": {},
   "outputs": [
    {
     "name": "stdout",
     "output_type": "stream",
     "text": [
      "Epoch 1/20\n",
      "500/500 [==============================] - 8s 16ms/step - loss: 0.4446 - val_loss: 0.4487\n",
      "Epoch 2/20\n",
      "500/500 [==============================] - 7s 15ms/step - loss: 0.3869 - val_loss: 0.4538\n",
      "Epoch 3/20\n",
      "500/500 [==============================] - 7s 15ms/step - loss: 0.3632 - val_loss: 0.4645\n",
      "Epoch 4/20\n",
      "500/500 [==============================] - 7s 14ms/step - loss: 0.3475 - val_loss: 0.4659\n",
      "Epoch 5/20\n",
      "500/500 [==============================] - 7s 15ms/step - loss: 0.3345 - val_loss: 0.4698\n",
      "Epoch 6/20\n",
      "500/500 [==============================] - 7s 15ms/step - loss: 0.3265 - val_loss: 0.4705\n",
      "Epoch 7/20\n",
      "500/500 [==============================] - 7s 15ms/step - loss: 0.3170 - val_loss: 0.4704\n",
      "Epoch 8/20\n",
      "500/500 [==============================] - 7s 15ms/step - loss: 0.3112 - val_loss: 0.4805\n",
      "Epoch 9/20\n",
      "500/500 [==============================] - 7s 15ms/step - loss: 0.3019 - val_loss: 0.4980\n",
      "Epoch 10/20\n",
      "500/500 [==============================] - 7s 15ms/step - loss: 0.2970 - val_loss: 0.4859\n",
      "Epoch 11/20\n",
      "500/500 [==============================] - 7s 15ms/step - loss: 0.2944 - val_loss: 0.5000\n",
      "Epoch 12/20\n",
      "500/500 [==============================] - 7s 15ms/step - loss: 0.2888 - val_loss: 0.5216\n",
      "Epoch 13/20\n",
      "500/500 [==============================] - 7s 15ms/step - loss: 0.2851 - val_loss: 0.4968\n",
      "Epoch 14/20\n",
      "500/500 [==============================] - 7s 15ms/step - loss: 0.2810 - val_loss: 0.5114\n",
      "Epoch 15/20\n",
      "500/500 [==============================] - 7s 15ms/step - loss: 0.2786 - val_loss: 0.5073\n",
      "Epoch 16/20\n",
      "500/500 [==============================] - 7s 14ms/step - loss: 0.2746 - val_loss: 0.5186\n",
      "Epoch 17/20\n",
      "500/500 [==============================] - 7s 15ms/step - loss: 0.2711 - val_loss: 0.5132\n",
      "Epoch 18/20\n",
      "500/500 [==============================] - 7s 15ms/step - loss: 0.2686 - val_loss: 0.5073\n",
      "Epoch 19/20\n",
      "500/500 [==============================] - 7s 15ms/step - loss: 0.2662 - val_loss: 0.5183\n",
      "Epoch 20/20\n",
      "500/500 [==============================] - 7s 14ms/step - loss: 0.2643 - val_loss: 0.5242\n"
     ]
    }
   ],
   "source": [
    "from keras.models import Sequential\n",
    "from keras import layers\n",
    "from keras.optimizers import RMSprop\n",
    "\n",
    "model = Sequential()\n",
    "model.add(layers.Conv1D(32, 5, activation='relu',\n",
    "                        input_shape=(None, df.shape[-1])))\n",
    "model.add(layers.MaxPooling1D(3))\n",
    "model.add(layers.Conv1D(32, 5, activation='relu'))\n",
    "model.add(layers.MaxPooling1D(3))\n",
    "model.add(layers.Conv1D(32, 5, activation='relu'))\n",
    "model.add(layers.GlobalMaxPooling1D())\n",
    "model.add(layers.Dense(1))\n",
    "\n",
    "model.compile(optimizer=RMSprop(), loss='mae')\n",
    "\n",
    "history = model.fit_generator(train_gen, steps_per_epoch=500,\n",
    "                              epochs=20, validation_data=val_gen,\n",
    "                              validation_steps=val_steps)"
   ]
  },
  {
   "cell_type": "code",
   "execution_count": 14,
   "metadata": {},
   "outputs": [
    {
     "name": "stdout",
     "output_type": "stream",
     "text": [
      "Min Val Loss: 0.448724445784\n"
     ]
    },
    {
     "data": {
      "image/png": "[encoded data removed]",
      "text/plain": [
       "<matplotlib.figure.Figure at 0x7fed4006fe90>"
      ]
     },
     "metadata": {},
     "output_type": "display_data"
    }
   ],
   "source": [
    "print_curves(history)"
   ]
  },
  {
   "cell_type": "markdown",
   "metadata": {},
   "source": [
    "Still not as good as naive baseline but fast."
   ]
  },
  {
   "cell_type": "markdown",
   "metadata": {},
   "source": [
    "### What if we use 1D Convnet to pre-process / downsample data, then use RNN?"
   ]
  },
  {
   "cell_type": "code",
   "execution_count": 15,
   "metadata": {},
   "outputs": [],
   "source": [
    "lookback = 1440\n",
    "\n",
    "# Changed step to 3 so we look at every 30 minutes\n",
    "step = 3\n",
    "delay = 144\n",
    "batch_size = 128\n",
    "num_features = df.shape[1]\n",
    "\n",
    "train_gen = generator(\n",
    "    df.values,\n",
    "    lookback=lookback,\n",
    "    delay=delay,\n",
    "    min_index=0,\n",
    "    max_index=200000,\n",
    "    shuffle=True,\n",
    "    step=step,\n",
    "    batch_size=batch_size)\n",
    "\n",
    "val_gen = generator(\n",
    "    df.values,\n",
    "    lookback=lookback,\n",
    "    delay=delay,\n",
    "    min_index=200001,\n",
    "    max_index=300000,\n",
    "    step=step,\n",
    "    batch_size=batch_size)\n",
    "\n",
    "test_gen = generator(\n",
    "    df.values,\n",
    "    lookback=lookback,\n",
    "    delay=delay,\n",
    "    min_index=300001,\n",
    "    max_index=None,\n",
    "    step=step,\n",
    "    batch_size=batch_size)\n",
    "\n",
    "# how many train steps to see entire dataset\n",
    "train_steps = (200000 - lookback) // batch_size\n",
    "\n",
    "# how many val steps to see entire dataset\n",
    "val_steps = (300000 - 200001 - lookback) // batch_size\n",
    "\n",
    "# how many test steps to see entire dataset\n",
    "test_steps = (len(df) - 300001 - lookback) // batch_size"
   ]
  },
  {
   "cell_type": "code",
   "execution_count": null,
   "metadata": {
    "scrolled": true
   },
   "outputs": [
    {
     "name": "stdout",
     "output_type": "stream",
     "text": [
      "_________________________________________________________________\n",
      "Layer (type)                 Output Shape              Param #   \n",
      "=================================================================\n",
      "conv1d_6 (Conv1D)            (None, None, 32)          2272      \n",
      "_________________________________________________________________\n",
      "max_pooling1d_4 (MaxPooling1 (None, None, 32)          0         \n",
      "_________________________________________________________________\n",
      "conv1d_7 (Conv1D)            (None, None, 32)          5152      \n",
      "_________________________________________________________________\n",
      "gru_1 (GRU)                  (None, 32)                6240      \n",
      "_________________________________________________________________\n",
      "dense_3 (Dense)              (None, 1)                 33        \n",
      "=================================================================\n",
      "Total params: 13,697\n",
      "Trainable params: 13,697\n",
      "Non-trainable params: 0\n",
      "_________________________________________________________________\n"
     ]
    }
   ],
   "source": [
    "from keras.models import Sequential\n",
    "from keras import layers\n",
    "from keras.optimizers import RMSprop\n",
    "\n",
    "model = Sequential()\n",
    "model.add(layers.Conv1D(32, 5, activation='relu',\n",
    "                        input_shape=(None, df.shape[-1])))\n",
    "model.add(layers.MaxPooling1D(3))\n",
    "model.add(layers.Conv1D(32, 5, activation='relu'))\n",
    "model.add(layers.GRU(32, dropout=0.1, recurrent_dropout=0.5))\n",
    "model.add(layers.Dense(1))\n",
    "\n",
    "model.summary()"
   ]
  },
  {
   "cell_type": "code",
   "execution_count": null,
   "metadata": {},
   "outputs": [
    {
     "name": "stdout",
     "output_type": "stream",
     "text": [
      "Epoch 1/20\n",
      "500/500 [==============================] - 142s 285ms/step - loss: 0.3508 - val_loss: 0.2979\n",
      "Epoch 2/20\n",
      "500/500 [==============================] - 143s 287ms/step - loss: 0.3190 - val_loss: 0.2899\n",
      "Epoch 3/20\n",
      "500/500 [==============================] - 140s 281ms/step - loss: 0.3036 - val_loss: 0.2855\n",
      "Epoch 4/20\n",
      "500/500 [==============================] - 143s 286ms/step - loss: 0.2940 - val_loss: 0.2864\n",
      "Epoch 5/20\n",
      "500/500 [==============================] - 146s 292ms/step - loss: 0.2857 - val_loss: 0.2821\n",
      "Epoch 6/20\n",
      "500/500 [==============================] - 137s 274ms/step - loss: 0.2815 - val_loss: 0.2889\n",
      "Epoch 7/20\n",
      "500/500 [==============================] - 142s 284ms/step - loss: 0.2742 - val_loss: 0.2872\n",
      "Epoch 8/20\n",
      "500/500 [==============================] - 142s 284ms/step - loss: 0.2670 - val_loss: 0.2966\n",
      "Epoch 9/20\n",
      "500/500 [==============================] - 136s 272ms/step - loss: 0.2627 - val_loss: 0.2904\n",
      "Epoch 10/20\n",
      "500/500 [==============================] - 138s 277ms/step - loss: 0.2600 - val_loss: 0.2941\n",
      "Epoch 11/20\n",
      "500/500 [==============================] - 142s 283ms/step - loss: 0.2564 - val_loss: 0.3097\n",
      "Epoch 12/20\n",
      "500/500 [==============================] - 140s 280ms/step - loss: 0.2508 - val_loss: 0.3016\n",
      "Epoch 13/20\n",
      "499/500 [============================>.] - ETA: 0s - loss: 0.2495"
     ]
    }
   ],
   "source": [
    "model.compile(optimizer=RMSprop(), loss='mae')\n",
    "\n",
    "history = model.fit_generator(train_gen, steps_per_epoch=500,\n",
    "                              epochs=20, validation_data=val_gen,\n",
    "                              validation_steps=val_steps)"
   ]
  },
  {
   "cell_type": "code",
   "execution_count": null,
   "metadata": {},
   "outputs": [],
   "source": [
    "print_curves(history)"
   ]
  },
  {
   "cell_type": "markdown",
   "metadata": {},
   "source": [
    "This wasn't as good as regularized GRU alone, but was a lot faster. We also looked at twice as much data - didn't seem to help as much in this case but good strategy to know."
   ]
  }
 ],
 "metadata": {
  "kernelspec": {
   "display_name": "Python 2",
   "language": "python",
   "name": "python2"
  },
  "language_info": {
   "codemirror_mode": {
    "name": "ipython",
    "version": 2
   },
   "file_extension": ".py",
   "mimetype": "text/x-python",
   "name": "python",
   "nbconvert_exporter": "python",
   "pygments_lexer": "ipython2",
   "version": "2.7.12"
  }
 },
 "nbformat": 4,
 "nbformat_minor": 2
}

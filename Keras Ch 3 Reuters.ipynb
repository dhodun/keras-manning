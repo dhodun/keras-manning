{
 "cells": [
  {
   "cell_type": "code",
   "execution_count": 2,
   "metadata": {
    "collapsed": false
   },
   "outputs": [
    {
     "name": "stdout",
     "output_type": "stream",
     "text": [
      "Collecting keras\n",
      "  Using cached Keras-2.1.2-py2.py3-none-any.whl\n",
      "Requirement already satisfied: pyyaml in /usr/local/lib/python2.7/dist-packages (from keras)\n",
      "Requirement already satisfied: six>=1.9.0 in /usr/local/lib/python2.7/dist-packages (from keras)\n",
      "Requirement already satisfied: scipy>=0.14 in /usr/local/lib/python2.7/dist-packages (from keras)\n",
      "Requirement already satisfied: numpy>=1.9.1 in /usr/local/lib/python2.7/dist-packages (from keras)\n",
      "Installing collected packages: keras\n",
      "Successfully installed keras-2.1.2\n"
     ]
    }
   ],
   "source": [
    "!pip install keras"
   ]
  },
  {
   "cell_type": "code",
   "execution_count": 3,
   "metadata": {
    "collapsed": false
   },
   "outputs": [
    {
     "name": "stderr",
     "output_type": "stream",
     "text": [
      "Using TensorFlow backend.\n"
     ]
    }
   ],
   "source": [
    "from keras.datasets import reuters\n",
    "\n",
    "(train_data, train_labels), (test_data, test_labels) = reuters.load_data(num_words=10000)"
   ]
  },
  {
   "cell_type": "code",
   "execution_count": 4,
   "metadata": {
    "collapsed": false
   },
   "outputs": [
    {
     "name": "stdout",
     "output_type": "stream",
     "text": [
      "Downloading data from https://s3.amazonaws.com/text-datasets/reuters_word_index.json\n",
      "557056/550378 [==============================] - 0s 0us/step\n",
      "565248/550378 [==============================] - 0s 0us/step\n",
      "???saidasaresultofitsdecemberacquisitionofspacecoitexpectsearningspersharein1987of115to130dlrspershareupfrom70ctsin1986thecompanysaidpretaxnetshouldrisetonineto10mlndlrsfromsixmlndlrsin1986andrentaloperationrevenuesto19to22mlndlrsfrom125mlndlrsitsaidcashflowpersharethisyearshouldbe250tothreedlrsreuter3\n"
     ]
    }
   ],
   "source": [
    "word_index = reuters.get_word_index()\n",
    "reverse_word_index = dict([(value, key) for (key, value) in word_index.items()])\n",
    "decoded_newswire = ''.join([reverse_word_index.get(i-3, '?') for i in train_data[0]])\n",
    "print(decoded_newswire)"
   ]
  },
  {
   "cell_type": "code",
   "execution_count": 5,
   "metadata": {
    "collapsed": true
   },
   "outputs": [],
   "source": [
    "import numpy as np\n",
    "\n",
    "def vectorize_sequences(sequences, dimension=10000):\n",
    "    results = np.zeros((len(sequences), dimension))\n",
    "    for i, sequence in enumerate(sequences):\n",
    "        results[i, sequence] = 1.\n",
    "    return results"
   ]
  },
  {
   "cell_type": "code",
   "execution_count": 6,
   "metadata": {
    "collapsed": true
   },
   "outputs": [],
   "source": [
    "x_train = vectorize_sequences(train_data)\n",
    "x_test = vectorize_sequences(test_data)"
   ]
  },
  {
   "cell_type": "code",
   "execution_count": 9,
   "metadata": {
    "collapsed": false
   },
   "outputs": [],
   "source": [
    "def to_one_hot(labels, dimension=46):\n",
    "    results = np.zeros((len(labels), dimension))\n",
    "    for i, label in enumerate(labels):\n",
    "        results[i, label] = 1.\n",
    "    return results"
   ]
  },
  {
   "cell_type": "code",
   "execution_count": 10,
   "metadata": {
    "collapsed": true
   },
   "outputs": [],
   "source": [
    "one_hot_train_labels = to_one_hot(train_labels)\n",
    "one_hot_test_labels = to_one_hot(test_labels)"
   ]
  },
  {
   "cell_type": "markdown",
   "metadata": {},
   "source": [
    "Use built-in Keras Functions"
   ]
  },
  {
   "cell_type": "code",
   "execution_count": 11,
   "metadata": {
    "collapsed": true
   },
   "outputs": [],
   "source": [
    "from keras.utils.np_utils import to_categorical\n",
    "\n",
    "one_hot_train_labels = to_categorical(train_labels)\n",
    "one_hot_test_labels = to_categorical(test_labels)"
   ]
  },
  {
   "cell_type": "markdown",
   "metadata": {},
   "source": [
    "Build Model with 46 Output Labels"
   ]
  },
  {
   "cell_type": "code",
   "execution_count": 39,
   "metadata": {
    "collapsed": false
   },
   "outputs": [],
   "source": [
    "from keras import layers\n",
    "from keras import models\n",
    "\n",
    "model = models.Sequential()\n",
    "model.add(layers.Dense(64, activation='relu', input_shape=(10000,)))\n",
    "model.add(layers.Dense(46, activation='softmax'))\n",
    "\n",
    "model.compile(optimizer='rmsprop', loss='categorical_crossentropy', metrics=['accuracy'])"
   ]
  },
  {
   "cell_type": "code",
   "execution_count": 40,
   "metadata": {
    "collapsed": true
   },
   "outputs": [],
   "source": [
    "x_val = x_train[:1000]\n",
    "partial_x_train = x_train[1000:]\n",
    "\n",
    "y_val = one_hot_train_labels[:1000]\n",
    "partial_y_train = one_hot_train_labels[1000:]"
   ]
  },
  {
   "cell_type": "code",
   "execution_count": 41,
   "metadata": {
    "collapsed": false
   },
   "outputs": [
    {
     "name": "stdout",
     "output_type": "stream",
     "text": [
      "Train on 7982 samples, validate on 1000 samples\n",
      "Epoch 1/20\n",
      "7982/7982 [==============================] - 1s 149us/step - loss: 2.5929 - acc: 0.5698 - val_loss: 1.7981 - val_acc: 0.6680\n",
      "Epoch 2/20\n",
      "7982/7982 [==============================] - 1s 125us/step - loss: 1.4549 - acc: 0.7276 - val_loss: 1.3191 - val_acc: 0.7340\n",
      "Epoch 3/20\n",
      "7982/7982 [==============================] - 1s 153us/step - loss: 1.0484 - acc: 0.7915 - val_loss: 1.1076 - val_acc: 0.7660\n",
      "Epoch 4/20\n",
      "7982/7982 [==============================] - 1s 156us/step - loss: 0.8149 - acc: 0.8393 - val_loss: 0.9981 - val_acc: 0.7960\n",
      "Epoch 5/20\n",
      "7982/7982 [==============================] - 1s 157us/step - loss: 0.6558 - acc: 0.8732 - val_loss: 0.9227 - val_acc: 0.8070\n",
      "Epoch 6/20\n",
      "7982/7982 [==============================] - 1s 157us/step - loss: 0.5368 - acc: 0.8949 - val_loss: 0.8774 - val_acc: 0.8130\n",
      "Epoch 7/20\n",
      "7982/7982 [==============================] - 1s 157us/step - loss: 0.4444 - acc: 0.9107 - val_loss: 0.8461 - val_acc: 0.8220\n",
      "Epoch 8/20\n",
      "7982/7982 [==============================] - 1s 156us/step - loss: 0.3706 - acc: 0.9248 - val_loss: 0.8234 - val_acc: 0.8250\n",
      "Epoch 9/20\n",
      "7982/7982 [==============================] - 1s 155us/step - loss: 0.3135 - acc: 0.9349 - val_loss: 0.8230 - val_acc: 0.8270\n",
      "Epoch 10/20\n",
      "7982/7982 [==============================] - 1s 155us/step - loss: 0.2693 - acc: 0.9409 - val_loss: 0.8180 - val_acc: 0.8240\n",
      "Epoch 11/20\n",
      "7982/7982 [==============================] - 1s 155us/step - loss: 0.2327 - acc: 0.9458 - val_loss: 0.8326 - val_acc: 0.8160\n",
      "Epoch 12/20\n",
      "7982/7982 [==============================] - 1s 154us/step - loss: 0.2021 - acc: 0.9490 - val_loss: 0.8397 - val_acc: 0.8190\n",
      "Epoch 13/20\n",
      "7982/7982 [==============================] - 1s 158us/step - loss: 0.1813 - acc: 0.9515 - val_loss: 0.8493 - val_acc: 0.8230\n",
      "Epoch 14/20\n",
      "7982/7982 [==============================] - 1s 155us/step - loss: 0.1653 - acc: 0.9528 - val_loss: 0.8502 - val_acc: 0.8140\n",
      "Epoch 15/20\n",
      "7982/7982 [==============================] - 1s 154us/step - loss: 0.1492 - acc: 0.9554 - val_loss: 0.8532 - val_acc: 0.8260\n",
      "Epoch 16/20\n",
      "7982/7982 [==============================] - 1s 155us/step - loss: 0.1372 - acc: 0.9562 - val_loss: 0.8665 - val_acc: 0.8170\n",
      "Epoch 17/20\n",
      "7982/7982 [==============================] - 1s 156us/step - loss: 0.1287 - acc: 0.9558 - val_loss: 0.8786 - val_acc: 0.8180\n",
      "Epoch 18/20\n",
      "7982/7982 [==============================] - 1s 155us/step - loss: 0.1212 - acc: 0.9579 - val_loss: 0.8894 - val_acc: 0.8090\n",
      "Epoch 19/20\n",
      "7982/7982 [==============================] - 1s 156us/step - loss: 0.1160 - acc: 0.9570 - val_loss: 0.8997 - val_acc: 0.8070\n",
      "Epoch 20/20\n",
      "7982/7982 [==============================] - 1s 155us/step - loss: 0.1104 - acc: 0.9574 - val_loss: 0.9289 - val_acc: 0.8100\n"
     ]
    }
   ],
   "source": [
    "history = model.fit(partial_x_train, partial_y_train, epochs=20, batch_size=512, validation_data=(x_val, y_val))"
   ]
  },
  {
   "cell_type": "code",
   "execution_count": 42,
   "metadata": {
    "collapsed": false
   },
   "outputs": [
    {
     "data": {
      "image/png": "[encoded data removed]",
      "text/plain": [
       "<matplotlib.figure.Figure at 0x7f909c164b50>"
      ]
     },
     "metadata": {},
     "output_type": "display_data"
    }
   ],
   "source": [
    "import matplotlib.pyplot as plt\n",
    "\n",
    "history_dict = history.history\n",
    "loss_values = history_dict['loss']\n",
    "val_loss_values = history_dict['val_loss']\n",
    "\n",
    "epochs = range(1, len(loss_values) + 1)\n",
    "\n",
    "plt.plot(epochs, loss_values, 'bo', label='Training Loss')\n",
    "plt.plot(epochs, val_loss_values, 'b', label='Validation Loss')\n",
    "plt.title('Training and validation Loss')\n",
    "plt.legend()\n",
    "plt.xlabel('Epochs')\n",
    "plt.ylabel('Loss')\n",
    "\n",
    "plt.show()"
   ]
  },
  {
   "cell_type": "code",
   "execution_count": 43,
   "metadata": {
    "collapsed": false
   },
   "outputs": [
    {
     "data": {
      "image/png": "[encoded data removed]",
      "text/plain": [
       "<matplotlib.figure.Figure at 0x7f909c164150>"
      ]
     },
     "metadata": {},
     "output_type": "display_data"
    }
   ],
   "source": [
    "acc_values = history_dict['acc']\n",
    "val_acc_values = history_dict['val_acc']\n",
    "\n",
    "plt.plot(epochs, acc_values, 'bo', label='Training Accuracy')\n",
    "plt.plot(epochs, val_acc_values, 'b', label='Validation Accuracy')\n",
    "plt.title('Training and validation Accuracy')\n",
    "plt.legend()\n",
    "plt.xlabel('Epochs')\n",
    "plt.ylabel('Accuracy')\n",
    "\n",
    "plt.show()"
   ]
  },
  {
   "cell_type": "markdown",
   "metadata": {},
   "source": [
    "Retrain with New number of Epochs"
   ]
  },
  {
   "cell_type": "code",
   "execution_count": 19,
   "metadata": {
    "collapsed": false
   },
   "outputs": [
    {
     "name": "stdout",
     "output_type": "stream",
     "text": [
      "Epoch 1/11\n",
      "8982/8982 [==============================] - 2s 198us/step - loss: 2.4428 - acc: 0.5332\n",
      "Epoch 2/11\n",
      "8982/8982 [==============================] - 2s 195us/step - loss: 1.3238 - acc: 0.7161\n",
      "Epoch 3/11\n",
      "8982/8982 [==============================] - 2s 195us/step - loss: 0.9758 - acc: 0.7867\n",
      "Epoch 4/11\n",
      "8982/8982 [==============================] - 2s 194us/step - loss: 0.7592 - acc: 0.8381\n",
      "Epoch 5/11\n",
      "8982/8982 [==============================] - 2s 192us/step - loss: 0.5984 - acc: 0.8762\n",
      "Epoch 6/11\n",
      "8982/8982 [==============================] - 2s 193us/step - loss: 0.4768 - acc: 0.9002\n",
      "Epoch 7/11\n",
      "8982/8982 [==============================] - 2s 195us/step - loss: 0.3847 - acc: 0.9175\n",
      "Epoch 8/11\n",
      "8982/8982 [==============================] - 2s 195us/step - loss: 0.3088 - acc: 0.9348\n",
      "Epoch 9/11\n",
      "8982/8982 [==============================] - 2s 193us/step - loss: 0.2598 - acc: 0.9413\n",
      "Epoch 10/11\n",
      "8982/8982 [==============================] - 2s 193us/step - loss: 0.2225 - acc: 0.9466\n",
      "Epoch 11/11\n",
      "8982/8982 [==============================] - 2s 192us/step - loss: 0.1948 - acc: 0.9509\n",
      "2246/2246 [==============================] - 0s 202us/step\n"
     ]
    },
    {
     "data": {
      "text/plain": [
       "[0.996345554519103, 0.79474621549421198]"
      ]
     },
     "execution_count": 19,
     "metadata": {},
     "output_type": "execute_result"
    }
   ],
   "source": [
    "model = models.Sequential()\n",
    "model.add(layers.Dense(64, activation='relu', input_shape=(10000,)))\n",
    "model.add(layers.Dense(64, activation='relu'))\n",
    "model.add(layers.Dense(46, activation='softmax'))\n",
    "\n",
    "model.compile(optimizer='rmsprop', loss='categorical_crossentropy', metrics=['acc'])\n",
    "\n",
    "history = model.fit(x_train, one_hot_train_labels, epochs=11, batch_size=512)\n",
    "\n",
    "model.evaluate(x_test, one_hot_test_labels)"
   ]
  },
  {
   "cell_type": "code",
   "execution_count": 20,
   "metadata": {
    "collapsed": true
   },
   "outputs": [],
   "source": [
    "predictions = model.predict(x_test)"
   ]
  },
  {
   "cell_type": "code",
   "execution_count": 21,
   "metadata": {
    "collapsed": false
   },
   "outputs": [
    {
     "data": {
      "text/plain": [
       "(46,)"
      ]
     },
     "execution_count": 21,
     "metadata": {},
     "output_type": "execute_result"
    }
   ],
   "source": [
    "predictions[0].shape"
   ]
  },
  {
   "cell_type": "code",
   "execution_count": 22,
   "metadata": {
    "collapsed": false
   },
   "outputs": [
    {
     "data": {
      "text/plain": [
       "0.99999988"
      ]
     },
     "execution_count": 22,
     "metadata": {},
     "output_type": "execute_result"
    }
   ],
   "source": [
    "np.sum(predictions[0])"
   ]
  },
  {
   "cell_type": "code",
   "execution_count": 26,
   "metadata": {
    "collapsed": false
   },
   "outputs": [
    {
     "data": {
      "text/plain": [
       "array([ 780, 1013, 1072, 1658,   45, 1779,   27, 1228,  882, 1770, 1490,\n",
       "        897,  717,  136, 1779,  896, 1761,  159, 2091,   73,  695,  917,\n",
       "       1768,  761,  541, 1105, 1058, 1351, 1251, 1308, 1592, 1569,  875,\n",
       "       1147,  548,  189, 2001,  543,  376,  822,  487,  100,  744, 1144,\n",
       "       1492, 2046])"
      ]
     },
     "execution_count": 26,
     "metadata": {},
     "output_type": "execute_result"
    }
   ],
   "source": [
    "np.argmax(predictions, axis=0)"
   ]
  },
  {
   "cell_type": "markdown",
   "metadata": {},
   "source": [
    "Changed from one-hot to normal array, loss becomes sparse_categorical_crossentropy"
   ]
  },
  {
   "cell_type": "code",
   "execution_count": 44,
   "metadata": {
    "collapsed": false
   },
   "outputs": [
    {
     "name": "stdout",
     "output_type": "stream",
     "text": [
      "Epoch 1/11\n",
      "8982/8982 [==============================] - 3s 357us/step - loss: 2.6231 - acc: 0.5734\n",
      "Epoch 2/11\n",
      "8982/8982 [==============================] - 3s 314us/step - loss: 1.4792 - acc: 0.7305\n",
      "Epoch 3/11\n",
      "8982/8982 [==============================] - 3s 311us/step - loss: 1.0512 - acc: 0.7933\n",
      "Epoch 4/11\n",
      "8982/8982 [==============================] - 3s 307us/step - loss: 0.8047 - acc: 0.8432\n",
      "Epoch 5/11\n",
      "8982/8982 [==============================] - 3s 308us/step - loss: 0.6382 - acc: 0.8779\n",
      "Epoch 6/11\n",
      "8982/8982 [==============================] - 3s 313us/step - loss: 0.5171 - acc: 0.9001\n",
      "Epoch 7/11\n",
      "8982/8982 [==============================] - 3s 310us/step - loss: 0.4268 - acc: 0.9149\n",
      "Epoch 8/11\n",
      "8982/8982 [==============================] - 3s 317us/step - loss: 0.3569 - acc: 0.9292\n",
      "Epoch 9/11\n",
      "8982/8982 [==============================] - 3s 311us/step - loss: 0.3014 - acc: 0.9348\n",
      "Epoch 10/11\n",
      "8982/8982 [==============================] - 3s 316us/step - loss: 0.2584 - acc: 0.9415\n",
      "Epoch 11/11\n",
      "8982/8982 [==============================] - 3s 329us/step - loss: 0.2256 - acc: 0.9461\n",
      "2246/2246 [==============================] - 1s 290us/step\n"
     ]
    },
    {
     "data": {
      "text/plain": [
       "[0.88329296863620443, 0.8023152270703473]"
      ]
     },
     "execution_count": 44,
     "metadata": {},
     "output_type": "execute_result"
    }
   ],
   "source": [
    "y_train = np.array(train_labels)\n",
    "y_test = np.array(test_labels)\n",
    "\n",
    "model = models.Sequential()\n",
    "model.add(layers.Dense(64, activation='relu', input_shape=(10000,)))\n",
    "#model.add(layers.Dense(64, activation='relu'))\n",
    "model.add(layers.Dense(46, activation='softmax'))\n",
    "\n",
    "model.compile(optimizer='rmsprop', loss='sparse_categorical_crossentropy', metrics=['acc'])\n",
    "\n",
    "history = model.fit(x_train, y_train, epochs=11, batch_size=512)\n",
    "\n",
    "model.evaluate(x_test, y_test)"
   ]
  },
  {
   "cell_type": "code",
   "execution_count": null,
   "metadata": {
    "collapsed": true
   },
   "outputs": [],
   "source": []
  }
 ],
 "metadata": {
  "kernelspec": {
   "display_name": "Python 2",
   "language": "python",
   "name": "python2"
  },
  "language_info": {
   "codemirror_mode": {
    "name": "ipython",
    "version": 2
   },
   "file_extension": ".py",
   "mimetype": "text/x-python",
   "name": "python",
   "nbconvert_exporter": "python",
   "pygments_lexer": "ipython2",
   "version": "2.7.12"
  }
 },
 "nbformat": 4,
 "nbformat_minor": 2
}
